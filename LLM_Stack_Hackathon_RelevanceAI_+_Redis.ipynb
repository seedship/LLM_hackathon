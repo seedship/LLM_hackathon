{
  "cells": [
    {
      "cell_type": "markdown",
      "metadata": {
        "id": "oBcJnWjmCy0I"
      },
      "source": [
        "## Installation"
      ]
    },
    {
      "cell_type": "code",
      "execution_count": null,
      "metadata": {
        "colab": {
          "base_uri": "https://localhost:8080/"
        },
        "id": "Pt4ecAXACxgs",
        "outputId": "c0438dde-043b-4c27-c2b6-7a47a235a6f2"
      },
      "outputs": [
        {
          "output_type": "stream",
          "name": "stdout",
          "text": [
            "Looking in indexes: https://pypi.org/simple, https://us-python.pkg.dev/colab-wheels/public/simple/\n",
            "Collecting relevanceai\n",
            "  Downloading relevanceai-4.0.1-py3-none-any.whl (20 kB)\n",
            "Requirement already satisfied: pandas in /usr/local/lib/python3.10/dist-packages (1.5.3)\n",
            "Collecting redis\n",
            "  Downloading redis-4.5.5-py3-none-any.whl (240 kB)\n",
            "\u001b[2K     \u001b[90m━━━━━━━━━━━━━━━━━━━━━━━━━━━━━━━━━━━━━━━\u001b[0m \u001b[32m240.3/240.3 kB\u001b[0m \u001b[31m9.9 MB/s\u001b[0m eta \u001b[36m0:00:00\u001b[0m\n",
            "\u001b[?25hRequirement already satisfied: tqdm in /usr/local/lib/python3.10/dist-packages (4.65.0)\n",
            "Collecting vecdb\n",
            "  Downloading vecdb-0.0.6-py3-none-any.whl (27 kB)\n",
            "Requirement already satisfied: requests in /usr/local/lib/python3.10/dist-packages (from relevanceai) (2.27.1)\n",
            "Requirement already satisfied: python-dateutil>=2.8.1 in /usr/local/lib/python3.10/dist-packages (from pandas) (2.8.2)\n",
            "Requirement already satisfied: pytz>=2020.1 in /usr/local/lib/python3.10/dist-packages (from pandas) (2022.7.1)\n",
            "Requirement already satisfied: numpy>=1.21.0 in /usr/local/lib/python3.10/dist-packages (from pandas) (1.22.4)\n",
            "Collecting async-timeout>=4.0.2 (from redis)\n",
            "  Downloading async_timeout-4.0.2-py3-none-any.whl (5.8 kB)\n",
            "Requirement already satisfied: pydantic>=1.10.2 in /usr/local/lib/python3.10/dist-packages (from vecdb) (1.10.7)\n",
            "Requirement already satisfied: typing-extensions>=4.2.0 in /usr/local/lib/python3.10/dist-packages (from pydantic>=1.10.2->vecdb) (4.5.0)\n",
            "Requirement already satisfied: six>=1.5 in /usr/local/lib/python3.10/dist-packages (from python-dateutil>=2.8.1->pandas) (1.16.0)\n",
            "Requirement already satisfied: urllib3<1.27,>=1.21.1 in /usr/local/lib/python3.10/dist-packages (from requests->relevanceai) (1.26.15)\n",
            "Requirement already satisfied: certifi>=2017.4.17 in /usr/local/lib/python3.10/dist-packages (from requests->relevanceai) (2022.12.7)\n",
            "Requirement already satisfied: charset-normalizer~=2.0.0 in /usr/local/lib/python3.10/dist-packages (from requests->relevanceai) (2.0.12)\n",
            "Requirement already satisfied: idna<4,>=2.5 in /usr/local/lib/python3.10/dist-packages (from requests->relevanceai) (3.4)\n",
            "Installing collected packages: async-timeout, relevanceai, redis, vecdb\n",
            "Successfully installed async-timeout-4.0.2 redis-4.5.5 relevanceai-4.0.1 vecdb-0.0.6\n"
          ]
        }
      ],
      "source": [
        "!pip install relevanceai pandas redis tqdm vecdb"
      ]
    },
    {
      "cell_type": "markdown",
      "metadata": {
        "id": "HKohMmvdDNQv"
      },
      "source": [
        "## Instantiate Relevance AI and set Redis up\n",
        "\n",
        "You can set the connection string via the dashboard instead as well. Setting keys in the python code requires an admin permission API key"
      ]
    },
    {
      "cell_type": "code",
      "execution_count": null,
      "metadata": {
        "colab": {
          "base_uri": "https://localhost:8080/"
        },
        "id": "cKGDItVn2LkB",
        "outputId": "b9455846-c703-498c-877b-54bed85cebb9"
      },
      "outputs": [
        {
          "output_type": "stream",
          "name": "stdout",
          "text": [
            "You can create and find your API key in your browser here: https://chain.relevanceai.com/login/sdk\n",
            "Paste the API key from your profile and hit enter: ··········\n",
            "Paste the Region from your profile and hit enter: f1db6c\n",
            "Paste the Project from your profile and hit enter: 32e34138-16b0-4d62-93a6-1921ccadc1a1\n",
            "Successfully logged in, welcome!\n"
          ]
        }
      ],
      "source": [
        "import relevanceai as rai\n",
        "rai.login()"
      ]
    },
    {
      "cell_type": "markdown",
      "source": [
        "Set `redis://read@Llmstack1!@redis-16021.c24680.us-east-1-1.ec2.cloud.rlrcp.com:16021` for redis connection string"
      ],
      "metadata": {
        "id": "JAdCPkODHoh_"
      }
    },
    {
      "cell_type": "code",
      "execution_count": null,
      "metadata": {
        "id": "LuIzx8ti2PY-"
      },
      "outputs": [],
      "source": [
        "from relevanceai.steps import RedisSearch\n",
        "\n",
        "step = RedisSearch(\n",
        "    index=\"mlopscommunity\",\n",
        "    query=\"hello\",\n",
        "    vector_field=\"vector\",\n",
        "    model=\"text-embedding-ada-002\",\n",
        "    page_size=5\n",
        ")"
      ]
    },
    {
      "cell_type": "code",
      "source": [
        "results = step.run()"
      ],
      "metadata": {
        "id": "5AZLq_a9Ds-2"
      },
      "execution_count": null,
      "outputs": []
    },
    {
      "cell_type": "code",
      "source": [
        "results[\"results\"][0][\"message\"]"
      ],
      "metadata": {
        "colab": {
          "base_uri": "https://localhost:8080/",
          "height": 35
        },
        "id": "QCP0GOTZHaml",
        "outputId": "057806d2-cc6f-4879-e30b-351075c4279c"
      },
      "execution_count": null,
      "outputs": [
        {
          "output_type": "execute_result",
          "data": {
            "text/plain": [
              "'U016HB7Q5A6: Hi here :wave:UP3T8K9M5: Hey hey!'"
            ],
            "application/vnd.google.colaboratory.intrinsic+json": {
              "type": "string"
            }
          },
          "metadata": {},
          "execution_count": 22
        }
      ]
    },
    {
      "cell_type": "markdown",
      "metadata": {
        "id": "7SE02qWjDZZ_"
      },
      "source": [
        "## Moving it into a chain"
      ]
    },
    {
      "cell_type": "markdown",
      "metadata": {
        "id": "03Hj3bO9Dkbg"
      },
      "source": [
        "Specify the parameters of the chains. I.e. whats the input of the chain.\n",
        "\n",
        "The parameter can be specified in any inputs into a step inside a chain via \"{{params.something}}\""
      ]
    },
    {
      "cell_type": "code",
      "execution_count": null,
      "metadata": {
        "id": "j61z052XAaws"
      },
      "outputs": [],
      "source": [
        "from relevanceai.params import StringParam\n",
        "sp = StringParam(\"question\", \"Question\")"
      ]
    },
    {
      "cell_type": "code",
      "execution_count": null,
      "metadata": {
        "id": "nBGRtvheANCU"
      },
      "outputs": [],
      "source": [
        "chain = rai.create(\n",
        "    name=\"Q&A on Chat messages\",\n",
        "    description=\"\",\n",
        "    parameters=sp\n",
        ")\n",
        "chain.reset()"
      ]
    },
    {
      "cell_type": "code",
      "execution_count": null,
      "metadata": {
        "id": "dtfKe0D7BG3Z"
      },
      "outputs": [],
      "source": [
        "search_step = RedisSearch(\n",
        "    index=\"mlopscommunity\",\n",
        "    query=\"{{params.question}}\",\n",
        "    vector_field=\"vector\",\n",
        "    model=\"text-embedding-ada-002\",\n",
        "    page_size=5\n",
        ")\n",
        "\n",
        "chain.add(search_step)"
      ]
    },
    {
      "cell_type": "markdown",
      "metadata": {
        "id": "H1x9D-0PDyMu"
      },
      "source": [
        "Every step has outputs. If you want to feed an output into a step further down the chain just put \"{{ }}\" around it. You can also that value with jsonpath"
      ]
    },
    {
      "cell_type": "code",
      "execution_count": null,
      "metadata": {
        "id": "xqGJ13nSBJ3_",
        "colab": {
          "base_uri": "https://localhost:8080/"
        },
        "outputId": "d4d996cb-d459-4944-ce37-196f68513f74"
      },
      "outputs": [
        {
          "output_type": "execute_result",
          "data": {
            "text/plain": [
              "['steps.redis_search.output.results']"
            ]
          },
          "metadata": {},
          "execution_count": 26
        }
      ],
      "source": [
        "search_step.outputs"
      ]
    },
    {
      "cell_type": "code",
      "execution_count": null,
      "metadata": {
        "id": "KXFrQkRGAhBh"
      },
      "outputs": [],
      "source": [
        "from relevanceai.steps import PromptCompletion\n",
        "llm_qa = PromptCompletion(\n",
        "    prompt=\"Context:{{steps.redis_search.output.results[*].message}}\\nBased on the above context answer the question.Question:{{params.question}}\\nAnswer:\",\n",
        ")\n",
        "chain.add(llm_qa)"
      ]
    },
    {
      "cell_type": "code",
      "execution_count": null,
      "metadata": {
        "id": "ki0YsPwyBtjp",
        "colab": {
          "base_uri": "https://localhost:8080/",
          "height": 53
        },
        "outputId": "0b7f74fa-f29d-4b6e-c002-04868b345fb0"
      },
      "outputs": [
        {
          "output_type": "execute_result",
          "data": {
            "text/plain": [
              "'A vector database is a type of database used in machine learning that stores vector representations of data and allows for fast querying and searching of that data. It can also handle versioning and updating of embeddings.'"
            ],
            "application/vnd.google.colaboratory.intrinsic+json": {
              "type": "string"
            }
          },
          "metadata": {},
          "execution_count": 28
        }
      ],
      "source": [
        "chain.run({\n",
        "    \"question\" : \"What is a vector database?\"\n",
        "})['answer']"
      ]
    },
    {
      "cell_type": "markdown",
      "metadata": {
        "id": "g8iSRzZsEAyn"
      },
      "source": [
        "Once the chain is good you can deploy it as an API to use anywhere from our GUI, Javascript or just as an API request\n",
        "\n",
        "\n"
      ]
    },
    {
      "cell_type": "code",
      "execution_count": null,
      "metadata": {
        "id": "wQFhLskHB9CB",
        "colab": {
          "base_uri": "https://localhost:8080/",
          "height": 502
        },
        "outputId": "176538d7-bbd4-4dc7-8a79-42e1583c2c39"
      },
      "outputs": [
        {
          "output_type": "stream",
          "name": "stdout",
          "text": [
            "Studio deployed successfully to id  6fac8317-0777-43f8-8910-bb9f72554256\n",
            "Your studio id is randomly generated, to ensure you are updating the same chain you should specify the id on rai.create(id=id) \n",
            "\n",
            "=============Low Code Notebook================\n",
            "You can share/visualize your chain as an app in our low code notebook here: https://chain.relevanceai.com/notebook/f1db6c/32e34138-16b0-4d62-93a6-1921ccadc1a1/6fac8317-0777-43f8-8910-bb9f72554256/app\n",
            "\n",
            "=============with Requests================\n",
            "Here is an example of how to run the chain with API: \n",
            "\n",
            "import requests\n",
            "requests.post(https://api-f1db6c.stack.tryrelevance.com/latest/studios/6fac8317-0777-43f8-8910-bb9f72554256/trigger_limited\", json={\n",
            "    \"project\": \"32e34138-16b0-4d62-93a6-1921ccadc1a1\",\n",
            "    \"params\": {\n",
            "        YOUR PARAMS HERE\n",
            "    }\n",
            "})\n",
            "            \n",
            "\n",
            "=============with Python SDK================\n",
            "Here is an example of how to run the chain with Python: \n",
            "\n",
            "import relevanceai as rai\n",
            "chain = rai.load(\"6fac8317-0777-43f8-8910-bb9f72554256\")\n",
            "chain.run({YOUR PARAMS HERE})\n",
            "            \n"
          ]
        },
        {
          "output_type": "execute_result",
          "data": {
            "text/plain": [
              "'6fac8317-0777-43f8-8910-bb9f72554256'"
            ],
            "application/vnd.google.colaboratory.intrinsic+json": {
              "type": "string"
            }
          },
          "metadata": {},
          "execution_count": 29
        }
      ],
      "source": [
        "chain.deploy()"
      ]
    },
    {
      "cell_type": "code",
      "execution_count": null,
      "metadata": {
        "id": "jAxd83N1GBCt"
      },
      "outputs": [],
      "source": []
    }
  ],
  "metadata": {
    "colab": {
      "provenance": []
    },
    "kernelspec": {
      "display_name": "Python 3",
      "name": "python3"
    },
    "language_info": {
      "name": "python"
    }
  },
  "nbformat": 4,
  "nbformat_minor": 0
}