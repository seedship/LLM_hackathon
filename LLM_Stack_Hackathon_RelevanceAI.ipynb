{
  "cells": [
    {
      "cell_type": "markdown",
      "metadata": {
        "id": "oBcJnWjmCy0I"
      },
      "source": [
        "## Installation"
      ]
    },
    {
      "cell_type": "code",
      "execution_count": null,
      "metadata": {
        "colab": {
          "base_uri": "https://localhost:8080/"
        },
        "id": "Pt4ecAXACxgs",
        "outputId": "b15ad410-c80e-4cd0-d1bb-85413beae999"
      },
      "outputs": [
        {
          "output_type": "stream",
          "name": "stdout",
          "text": [
            "Looking in indexes: https://pypi.org/simple, https://us-python.pkg.dev/colab-wheels/public/simple/\n",
            "Collecting relevanceai\n",
            "  Downloading relevanceai-4.0.1-py3-none-any.whl (20 kB)\n",
            "Requirement already satisfied: pandas in /usr/local/lib/python3.10/dist-packages (1.5.3)\n",
            "Requirement already satisfied: tqdm in /usr/local/lib/python3.10/dist-packages (4.65.0)\n",
            "Collecting vecdb\n",
            "  Downloading vecdb-0.0.6-py3-none-any.whl (27 kB)\n",
            "Requirement already satisfied: requests in /usr/local/lib/python3.10/dist-packages (from relevanceai) (2.27.1)\n",
            "Requirement already satisfied: python-dateutil>=2.8.1 in /usr/local/lib/python3.10/dist-packages (from pandas) (2.8.2)\n",
            "Requirement already satisfied: pytz>=2020.1 in /usr/local/lib/python3.10/dist-packages (from pandas) (2022.7.1)\n",
            "Requirement already satisfied: numpy>=1.21.0 in /usr/local/lib/python3.10/dist-packages (from pandas) (1.22.4)\n",
            "Requirement already satisfied: pydantic>=1.10.2 in /usr/local/lib/python3.10/dist-packages (from vecdb) (1.10.7)\n",
            "Requirement already satisfied: typing-extensions>=4.2.0 in /usr/local/lib/python3.10/dist-packages (from pydantic>=1.10.2->vecdb) (4.5.0)\n",
            "Requirement already satisfied: six>=1.5 in /usr/local/lib/python3.10/dist-packages (from python-dateutil>=2.8.1->pandas) (1.16.0)\n",
            "Requirement already satisfied: urllib3<1.27,>=1.21.1 in /usr/local/lib/python3.10/dist-packages (from requests->relevanceai) (1.26.15)\n",
            "Requirement already satisfied: certifi>=2017.4.17 in /usr/local/lib/python3.10/dist-packages (from requests->relevanceai) (2022.12.7)\n",
            "Requirement already satisfied: charset-normalizer~=2.0.0 in /usr/local/lib/python3.10/dist-packages (from requests->relevanceai) (2.0.12)\n",
            "Requirement already satisfied: idna<4,>=2.5 in /usr/local/lib/python3.10/dist-packages (from requests->relevanceai) (3.4)\n",
            "Installing collected packages: relevanceai, vecdb\n",
            "Successfully installed relevanceai-4.0.1 vecdb-0.0.6\n"
          ]
        }
      ],
      "source": [
        "!pip install relevanceai pandas tqdm vecdb"
      ]
    },
    {
      "cell_type": "markdown",
      "metadata": {
        "id": "t9ZAfethDHd7"
      },
      "source": [
        "## Download the data"
      ]
    },
    {
      "cell_type": "code",
      "execution_count": null,
      "metadata": {
        "colab": {
          "base_uri": "https://localhost:8080/"
        },
        "id": "RsP491yo69Af",
        "outputId": "83d25606-5bfa-4b0d-de8b-b97c32e6c105"
      },
      "outputs": [
        {
          "output_type": "stream",
          "name": "stderr",
          "text": [
            "Retrieving folder list\n"
          ]
        },
        {
          "output_type": "stream",
          "name": "stdout",
          "text": [
            "Processing file 1QMNTLBTcgr2bZlwn072b2aabzAC8_EKO chats-embeddings-ada-002.csv\n",
            "Processing file 1eOta0PjQpn3spi8MsC2yLFBfKAeDMKDd chats.csv\n",
            "Processing file 1kdldUOEBYuxfKdLdRbSd0j4yh6nxEsEs LICENSE.txt\n",
            "Processing file 1L0_cIYnYERWBI2N3Ue8Laz_4vzPTgIFT LLM Stack Hackathon - Starter.ipynb\n",
            "Processing file 1soJjObg5XOSfY_Ie-s0B2akUibz2Hg9M messages-embeddings-ada-002.csv\n",
            "Processing file 1i-Rqg9bGlTNZ-fm2Ui37qHvWYlIv9FrJ messages.csv\n",
            "Retrieving folder 19R44g64_Ipj4S1GoQlaEEecJ0uz4YsxG Transcripts\n",
            "Processing file 1K1dOoE0M-ldqbGSIlvs7fyZwPevRhR6R Adrian Boguszewski MLOps Meetup #120 audio (wav).json\n",
            "Processing file 1xVhiDejc77hw6zQbyXiTHvghhkP4XKVG Andrew Jones MLOps Meetup #115 audio (wav).json\n",
            "Processing file 186WgYkaHHcmthaWBHy-nvO89Icpb5Np1 Ankit Aggarwal, Vinay Anantharaman & Maurizio Vitale MLOps Meetup #119 audio (wav).json\n",
            "Processing file 1RkCY73h9X9BHODeAP-ek4mWxAT2giajU Antoni Ivanov MLOps Meetup Audio.json\n",
            "Processing file 1ruP1TnIEcLKRcG1Aa6c3dYgjNFYBjc8h Blaise Thomson MLOps Meetup Audio (wav).json\n",
            "Processing file 1NVaj8JWRhJtFPyq7cXfibdNEE44MiKXO Crag Wolfe MLOps Meetup #121 audio (wav).json\n",
            "Processing file 1usWJFktuFTDx5s6gJP9CqZv6GIiWVwtn Meetup #111 - Danny Brock - Wav.json\n",
            "Building directory structure completed\n"
          ]
        },
        {
          "output_type": "stream",
          "name": "stderr",
          "text": [
            "Retrieving folder list completed\n",
            "Building directory structure\n",
            "Downloading...\n",
            "From: https://drive.google.com/uc?id=1QMNTLBTcgr2bZlwn072b2aabzAC8_EKO\n",
            "To: /content/LLM Stack Hackathon/chats-embeddings-ada-002.csv\n",
            "100%|██████████| 334M/334M [00:01<00:00, 253MB/s]\n",
            "Downloading...\n",
            "From: https://drive.google.com/uc?id=1eOta0PjQpn3spi8MsC2yLFBfKAeDMKDd\n",
            "To: /content/LLM Stack Hackathon/chats.csv\n",
            "100%|██████████| 15.1M/15.1M [00:00<00:00, 50.9MB/s]\n",
            "Downloading...\n",
            "From: https://drive.google.com/uc?id=1kdldUOEBYuxfKdLdRbSd0j4yh6nxEsEs\n",
            "To: /content/LLM Stack Hackathon/LICENSE.txt\n",
            "100%|██████████| 166/166 [00:00<00:00, 214kB/s]\n",
            "Downloading...\n",
            "From: https://drive.google.com/uc?id=1L0_cIYnYERWBI2N3Ue8Laz_4vzPTgIFT\n",
            "To: /content/LLM Stack Hackathon/LLM Stack Hackathon - Starter.ipynb\n",
            "100%|██████████| 78.0k/78.0k [00:00<00:00, 23.4MB/s]\n",
            "Downloading...\n",
            "From: https://drive.google.com/uc?id=1soJjObg5XOSfY_Ie-s0B2akUibz2Hg9M\n",
            "To: /content/LLM Stack Hackathon/messages-embeddings-ada-002.csv\n",
            "100%|██████████| 2.16G/2.16G [00:15<00:00, 143MB/s]\n",
            "Downloading...\n",
            "From: https://drive.google.com/uc?id=1i-Rqg9bGlTNZ-fm2Ui37qHvWYlIv9FrJ\n",
            "To: /content/LLM Stack Hackathon/messages.csv\n",
            "100%|██████████| 26.0M/26.0M [00:00<00:00, 151MB/s] \n",
            "Downloading...\n",
            "From: https://drive.google.com/uc?id=1K1dOoE0M-ldqbGSIlvs7fyZwPevRhR6R\n",
            "To: /content/LLM Stack Hackathon/Transcripts/Adrian Boguszewski MLOps Meetup #120 audio (wav).json\n",
            "100%|██████████| 694k/694k [00:00<00:00, 116MB/s]\n",
            "Downloading...\n",
            "From: https://drive.google.com/uc?id=1xVhiDejc77hw6zQbyXiTHvghhkP4XKVG\n",
            "To: /content/LLM Stack Hackathon/Transcripts/Andrew Jones MLOps Meetup #115 audio (wav).json\n",
            "100%|██████████| 576k/576k [00:00<00:00, 77.8MB/s]\n",
            "Downloading...\n",
            "From: https://drive.google.com/uc?id=186WgYkaHHcmthaWBHy-nvO89Icpb5Np1\n",
            "To: /content/LLM Stack Hackathon/Transcripts/Ankit Aggarwal, Vinay Anantharaman & Maurizio Vitale MLOps Meetup #119 audio (wav).json\n",
            "100%|██████████| 1.02M/1.02M [00:00<00:00, 116MB/s]\n",
            "Downloading...\n",
            "From: https://drive.google.com/uc?id=1RkCY73h9X9BHODeAP-ek4mWxAT2giajU\n",
            "To: /content/LLM Stack Hackathon/Transcripts/Antoni Ivanov MLOps Meetup Audio.json\n",
            "100%|██████████| 872k/872k [00:00<00:00, 116MB/s]\n",
            "Downloading...\n",
            "From: https://drive.google.com/uc?id=1ruP1TnIEcLKRcG1Aa6c3dYgjNFYBjc8h\n",
            "To: /content/LLM Stack Hackathon/Transcripts/Blaise Thomson MLOps Meetup Audio (wav).json\n",
            "100%|██████████| 668k/668k [00:00<00:00, 105MB/s]\n",
            "Downloading...\n",
            "From: https://drive.google.com/uc?id=1NVaj8JWRhJtFPyq7cXfibdNEE44MiKXO\n",
            "To: /content/LLM Stack Hackathon/Transcripts/Crag Wolfe MLOps Meetup #121 audio (wav).json\n",
            "100%|██████████| 766k/766k [00:00<00:00, 106MB/s]\n",
            "Downloading...\n",
            "From: https://drive.google.com/uc?id=1usWJFktuFTDx5s6gJP9CqZv6GIiWVwtn\n",
            "To: /content/LLM Stack Hackathon/Transcripts/Meetup #111 - Danny Brock - Wav.json\n",
            "100%|██████████| 978k/978k [00:00<00:00, 7.89MB/s]\n",
            "Download completed\n"
          ]
        },
        {
          "output_type": "execute_result",
          "data": {
            "text/plain": [
              "['/content/LLM Stack Hackathon/chats-embeddings-ada-002.csv',\n",
              " '/content/LLM Stack Hackathon/chats.csv',\n",
              " '/content/LLM Stack Hackathon/LICENSE.txt',\n",
              " '/content/LLM Stack Hackathon/LLM Stack Hackathon - Starter.ipynb',\n",
              " '/content/LLM Stack Hackathon/messages-embeddings-ada-002.csv',\n",
              " '/content/LLM Stack Hackathon/messages.csv',\n",
              " '/content/LLM Stack Hackathon/Transcripts/Adrian Boguszewski MLOps Meetup #120 audio (wav).json',\n",
              " '/content/LLM Stack Hackathon/Transcripts/Andrew Jones MLOps Meetup #115 audio (wav).json',\n",
              " '/content/LLM Stack Hackathon/Transcripts/Ankit Aggarwal, Vinay Anantharaman & Maurizio Vitale MLOps Meetup #119 audio (wav).json',\n",
              " '/content/LLM Stack Hackathon/Transcripts/Antoni Ivanov MLOps Meetup Audio.json',\n",
              " '/content/LLM Stack Hackathon/Transcripts/Blaise Thomson MLOps Meetup Audio (wav).json',\n",
              " '/content/LLM Stack Hackathon/Transcripts/Crag Wolfe MLOps Meetup #121 audio (wav).json',\n",
              " '/content/LLM Stack Hackathon/Transcripts/Meetup #111 - Danny Brock - Wav.json']"
            ]
          },
          "metadata": {},
          "execution_count": 2
        }
      ],
      "source": [
        "import gdown\n",
        "gdown.download_folder(\"https://drive.google.com/drive/folders/1FCuU2j8yI7hXsZL8Ls_fgJwUn7-Dx_VV?usp=sharing\", quiet=False)"
      ]
    },
    {
      "cell_type": "code",
      "execution_count": null,
      "metadata": {
        "colab": {
          "base_uri": "https://localhost:8080/"
        },
        "id": "YzPEaSyN7B3F",
        "outputId": "c7888a98-dbe1-4829-d442-a5b8752c140a"
      },
      "outputs": [
        {
          "output_type": "execute_result",
          "data": {
            "text/plain": [
              "((77170, 7), (62726, 3))"
            ]
          },
          "metadata": {},
          "execution_count": 3
        }
      ],
      "source": [
        "import pandas as pd\n",
        "\n",
        "messages_embeddings_df = pd.read_csv('/content/LLM Stack Hackathon/messages-embeddings-ada-002.csv')\n",
        "messages_df = pd.read_csv('/content/LLM Stack Hackathon/messages.csv')\n",
        "messages_df.shape, messages_embeddings_df.shape"
      ]
    },
    {
      "cell_type": "code",
      "execution_count": null,
      "metadata": {
        "colab": {
          "base_uri": "https://localhost:8080/"
        },
        "id": "lk55_HAz7ZsX",
        "outputId": "c75b126d-cae8-48f8-cdfa-c7c936624948"
      },
      "outputs": [
        {
          "output_type": "execute_result",
          "data": {
            "text/plain": [
              "((9719, 4), (9713, 3))"
            ]
          },
          "metadata": {},
          "execution_count": 4
        }
      ],
      "source": [
        "chats_df = pd.read_csv(\"./LLM Stack Hackathon/chats.csv\")\n",
        "chats_embeddings_df = pd.read_csv(\"./LLM Stack Hackathon/chats-embeddings-ada-002.csv\")\n",
        "chats_df.shape, chats_embeddings_df.shape"
      ]
    },
    {
      "cell_type": "code",
      "source": [
        "chats_df = chats_df.rename(columns={\"chat_text\" : \"text\"})"
      ],
      "metadata": {
        "id": "uru-yT7IQBwB"
      },
      "execution_count": null,
      "outputs": []
    },
    {
      "cell_type": "markdown",
      "metadata": {
        "id": "HKohMmvdDNQv"
      },
      "source": [
        "## Instantiate Relevance AI"
      ]
    },
    {
      "cell_type": "code",
      "execution_count": null,
      "metadata": {
        "id": "d1NExRzN_bte"
      },
      "outputs": [],
      "source": [
        "import json\n",
        "docs = json.loads(chats_df.dropna()[[\"text\"]][:50].to_json(orient=\"records\"))"
      ]
    },
    {
      "cell_type": "code",
      "execution_count": null,
      "metadata": {
        "colab": {
          "base_uri": "https://localhost:8080/"
        },
        "id": "cKGDItVn2LkB",
        "outputId": "51142094-144a-46c2-f395-68458505940a"
      },
      "outputs": [
        {
          "output_type": "stream",
          "name": "stdout",
          "text": [
            "Successfully logged in, welcome!\n"
          ]
        }
      ],
      "source": [
        "import relevanceai as rai\n",
        "rai.login()"
      ]
    },
    {
      "cell_type": "markdown",
      "metadata": {
        "id": "uVqcvx5ODRIm"
      },
      "source": [
        "## Create a dataset"
      ]
    },
    {
      "cell_type": "code",
      "execution_count": null,
      "metadata": {
        "id": "LuIzx8ti2PY-",
        "colab": {
          "base_uri": "https://localhost:8080/"
        },
        "outputId": "2d5861f9-9ec0-4e9c-9d3d-764909679778"
      },
      "outputs": [
        {
          "output_type": "stream",
          "name": "stderr",
          "text": [
            "/usr/local/lib/python3.10/dist-packages/vecdb/api/local.py:37: UserWarning: You have opted to not authenticate on client instantiation. Your token may or may not be valid.\n",
            "  warnings.warn(\n",
            "ERROR:vecdb.api.api:{'error': '{\"message\":\"Dataset could not be found in project.\"}', 'x-trace-id': '0731b6d7637d9e79cfa38d49d6aa8e5b'}\n"
          ]
        }
      ],
      "source": [
        "ds = rai.Dataset(\n",
        "    id=\"mlops_community\"\n",
        ")\n",
        "ds.delete()"
      ]
    },
    {
      "cell_type": "code",
      "execution_count": null,
      "metadata": {
        "id": "Nr9F8rrp6onA",
        "colab": {
          "base_uri": "https://localhost:8080/"
        },
        "outputId": "c0a4428b-6104-4e40-dea2-1d060139e5a2"
      },
      "outputs": [
        {
          "output_type": "execute_result",
          "data": {
            "text/plain": [
              "{'inserted': 50, 'failed_documents': []}"
            ]
          },
          "metadata": {},
          "execution_count": 31
        }
      ],
      "source": [
        "# ds.insert(documents=[\n",
        "#     {\"text\" : \"hello\", \"text_vector_\" : [...]}\n",
        "# ])\n",
        "ds.insert(documents=docs)"
      ]
    },
    {
      "cell_type": "code",
      "execution_count": null,
      "metadata": {
        "id": "gbQx_2Jo_8U1",
        "colab": {
          "base_uri": "https://localhost:8080/"
        },
        "outputId": "83772534-eb38-4421-f047-34c8abb99d3b"
      },
      "outputs": [
        {
          "output_type": "execute_result",
          "data": {
            "text/plain": [
              "{'results': [{'insert_date_': '2023-06-03T16:14:47.248Z',\n",
              "   'text': \"U03GRNBA755: Hi guys, I am Oluwatosin Olajide. I am a data scientist at Trakka(Finstaq). It's nice to be here:star-struck:.U03142DQP6Z: Nice to have you hereU027JPZGHDY: Welcome, nice to have you hereU03GRNBA755: Thank you.\",\n",
              "   '_id': '4290ca00-48f9-4bd9-a199-fb3e428ca1a9',\n",
              "   '_relevance': 0.377371},\n",
              "  {'insert_date_': '2023-06-03T16:14:47.248Z',\n",
              "   'text': 'U035THC41QW: Hi JohnU03142DQP6Z: It is nice to have you here',\n",
              "   '_id': '58a59473-a880-4d8d-821f-f789836b54d4',\n",
              "   '_relevance': 0.37591398},\n",
              "  {'insert_date_': '2023-06-03T16:14:47.247Z',\n",
              "   'text': \"U024WRAA0D9: Hello fellow MLOpsers in Africa :meow_party:U020H5LKBAP: Welcome, <@U024WRAA0D9>! Great idea getting us to set up a channel. :slightly_smiling_face:\\n\\nI guess we'll figure things out from here.\\n\\nExcited about this.U03142DQP6Z: I am also exited about itU032EMFKLUV: Hi <@U024WRAA0D9>\",\n",
              "   '_id': 'fcc9888d-365a-4a1e-a34b-f9ff4b57573a',\n",
              "   '_relevance': 0.26874745},\n",
              "  {'insert_date_': '2023-06-03T16:14:47.248Z',\n",
              "   'text': 'U03142DQP6Z: Hello <#C037GTG932B|africa> Please we will like to have the first MLOps in Africa virtual chat\\n\\nPlease what day and time is best for you\\nWed 4th May 2022 at 6PM UTC+2\\nWed 4th May 2022 at 3PM UTC+2\\n\\nOR\\nSat 7th May 2022 at 10AM UTC+2\\nWed 7th May 2022 at 6PM UTC+2U03D391TVL4: Wednesday 4th of May at 3PM is okay by me.U02G9RD7RG9: Wednesday 4th of May at 3 PM works for me as well.U02HNQBA29E: Same hereU03142DQP6Z: <@U024WRAA0D9> <@U020H5LKBAP> <@U027JPZGHDY> <@U02LM019DM4> <@U02NM16KSTC>U027JPZGHDY: Yea, Wednesday 4th of May at 3 PM is good for me.U024WRAA0D9: Hey sorry totally dropped the ball. That time works for me too. Thanks! U020H5LKBAP: 4th May, 3 PM works too.',\n",
              "   '_id': '6d6e5bd7-0648-4088-bdea-c81ef356ea44',\n",
              "   '_relevance': 0.26212043},\n",
              "  {'insert_date_': '2023-06-03T16:14:47.247Z',\n",
              "   'text': \"U024WRAA0D9: What should our next steps be (forgive my activation-self, I’m restless if I’m not doing something)? Maybe we can have a zoom call to find out what we can do together to build the MLOps community in Africa :slightly_smiling_face: ?U020H5LKBAP: Sounds good. Let's vote for a good time. Perhaps you can make that prompt based on your available times?\",\n",
              "   '_id': '479cb86b-7c10-4cd2-afc6-5884af5e7b07',\n",
              "   '_relevance': 0.25307956}]}"
            ]
          },
          "metadata": {},
          "execution_count": 34
        }
      ],
      "source": [
        "ds.search(\n",
        "    text=\"hello\"\n",
        ")"
      ]
    },
    {
      "cell_type": "markdown",
      "metadata": {
        "id": "7SE02qWjDZZ_"
      },
      "source": [
        "## Moving it into a chain"
      ]
    },
    {
      "cell_type": "markdown",
      "metadata": {
        "id": "03Hj3bO9Dkbg"
      },
      "source": [
        "Specify the parameters of the chains. I.e. whats the input of the chain.\n",
        "\n",
        "The parameter can be specified in any inputs into a step inside a chain via \"{{params.something}}\""
      ]
    },
    {
      "cell_type": "code",
      "execution_count": null,
      "metadata": {
        "id": "j61z052XAaws"
      },
      "outputs": [],
      "source": [
        "from relevanceai.params import StringParam\n",
        "sp = StringParam(\"question\", \"Question\")"
      ]
    },
    {
      "cell_type": "code",
      "execution_count": null,
      "metadata": {
        "id": "nBGRtvheANCU"
      },
      "outputs": [],
      "source": [
        "chain = rai.create(\n",
        "    name=\"Q&A on Chat messages\",\n",
        "    description=\"\",\n",
        "    parameters=sp\n",
        ")\n",
        "chain.reset()"
      ]
    },
    {
      "cell_type": "code",
      "execution_count": null,
      "metadata": {
        "id": "dtfKe0D7BG3Z"
      },
      "outputs": [],
      "source": [
        "search_step = ds.search(\n",
        "    text=\"{{params.question}}\",\n",
        "    page_size=2,\n",
        "    return_as_step=True\n",
        ")\n",
        "\n",
        "chain.add(search_step)"
      ]
    },
    {
      "cell_type": "markdown",
      "metadata": {
        "id": "H1x9D-0PDyMu"
      },
      "source": [
        "Every step has outputs. If you want to feed an output into a step further down the chain just put \"{{ }}\" around it"
      ]
    },
    {
      "cell_type": "code",
      "execution_count": null,
      "metadata": {
        "id": "xqGJ13nSBJ3_",
        "colab": {
          "base_uri": "https://localhost:8080/"
        },
        "outputId": "8064c777-7ca2-4daf-9f8d-74702cf01a33"
      },
      "outputs": [
        {
          "output_type": "execute_result",
          "data": {
            "text/plain": [
              "['steps.vector_similarity_search.output.results']"
            ]
          },
          "metadata": {},
          "execution_count": 39
        }
      ],
      "source": [
        "search_step.outputs"
      ]
    },
    {
      "cell_type": "code",
      "execution_count": null,
      "metadata": {
        "id": "KXFrQkRGAhBh"
      },
      "outputs": [],
      "source": [
        "from relevanceai.steps import PromptCompletion\n",
        "llm_qa = PromptCompletion(\n",
        "    prompt=\"Context:{{steps.vector_similarity_search.output.results}}\\nBased on the above context answer the question.Question:{{params.question}}\\nAnswer:\",\n",
        ")\n",
        "chain.add(llm_qa)"
      ]
    },
    {
      "cell_type": "code",
      "execution_count": null,
      "metadata": {
        "id": "ki0YsPwyBtjp",
        "colab": {
          "base_uri": "https://localhost:8080/"
        },
        "outputId": "e4700081-3b22-4eb0-90e4-3eef909e138f"
      },
      "outputs": [
        {
          "output_type": "execute_result",
          "data": {
            "text/plain": [
              "{'answer': 'There is no mention of a vector database in the given context.',\n",
              " 'prompt': 'Context:[{\"insert_date_\":\"2023-06-03T16:14:47.248Z\",\"text\":\"U03142DQP6Z: Summary of our discussion on \\\\\"Growing MLOps community in Africa\\\\\"\\\\nFeel free to add more ideas and criticize the points. Please let us know if you can assist with any of these, or if you know of someone who can.\\\\n\\\\n1. *Create open source projects and resources*\\\\nIncreasing the accessibility of MLOps knowledge for newcomers and engineers\\\\n\\\\n• Create a github repository containing a list of MLOps courses for beginners.\\\\n• Creating engineering blogs about how African businesses are using machine learning (ML) in the same way as Uber, Netflix, and other companies do.\\\\n• Write articles about the challenges of machine learning in Africa, how ML deployment in Africa differs from the rest of the globe, and so on.\\\\n*2. Create a survey  and report* \\\\nThis survey should include the following topics:\\\\n•  issues with MLOps in Africa\\\\n• state of MLOps in Africa\\\\n• the level of maturity of MLOps in Africa\\\\n• how African businesses are using machine learning\\\\nWe should write a report after the survey is completed.\\\\n\\\\n*3.  MLOps and African Business*\\\\n\\\\n• business consultation for African companies\\\\n• advising businesses on when and how to begin employing machine learning\\\\n• what firms want before implementing machine learning\\\\n•  the economic value of ML deployment\\\\n*4. Collaboration with conferences* \\\\n<https://deeplearningindaba.com/2022/|Deep Learning Indaba>, <https://datafest.africa/|DataFest Africa> and other conferences are examples of conferences we could partner with.\\\\nQuestions and thought\\\\n• Who will be attending these conferences?\\\\n• How do we approach collaboration with conferences? For example, it could be for the purpose of raising awareness, giving a talk, or collaborating with some of the sponsors, among other things.\\\\n*5. Collaboration with enterprises*\\\\nFor example, <https://zindi.africa/|Zindi> already works with businesses to obtain data and develop models through competitions. Zindi might be able to provide some insight into how these companies use these models.\\\\n\\\\n*6. Partnering with Vendors*\\\\nDespite the fact that the majority of vendors are located outside of Africa, they might sponsor an event and hold workshops on how to use their technologies at events and conferences.U01J94YCSMC: Thanks for this Summary <@U03142DQP6Z>.U024WRAA0D9: Great summary, thanks <@U03142DQP6Z>\",\"_id\":\"4c0924f0-38e3-441b-adfb-44ca58069cf8\",\"_relevance\":0.18159321},{\"insert_date_\":\"2023-06-03T16:14:47.248Z\",\"text\":\"U030GK0EMLL: <@U027JPZGHDY> Great Work! <https://www.linkedin.com/posts/dpbrinkm_mlops-is-dead-data-stockholm-syndrome-dream-activity-6975375676707069952-kAfr?utm_source=share&amp;utm_medium=member_desktop|https://www.linkedin.com/posts/dpbrinkm_mlops-is-dead-data-stockholm-syndrome-dream-a[…]676707069952-kAfr?utm_source=share&amp;utm_medium=member_desktop>U027JPZGHDY: <@U030GK0EMLL>, Thanks man\",\"_id\":\"52e017b3-16c1-4949-95c1-937d278aa4c3\",\"_relevance\":0.1708729}]\\nBased on the above context answer the question.Question:What is a vector database?\\nAnswer:',\n",
              " 'user_key_used': True,\n",
              " 'validation_history': [{'role': 'ai',\n",
              "   'message': 'There is no mention of a vector database in the given context.'}]}"
            ]
          },
          "metadata": {},
          "execution_count": 44
        }
      ],
      "source": [
        "chain.run({\n",
        "    \"question\" : \"What is a vector database?\"\n",
        "})"
      ]
    },
    {
      "cell_type": "markdown",
      "metadata": {
        "id": "g8iSRzZsEAyn"
      },
      "source": [
        "Once the chain is good you can deploy it as an API to use anywhere from our GUI, Javascript or just as an API request"
      ]
    },
    {
      "cell_type": "code",
      "execution_count": null,
      "metadata": {
        "id": "wQFhLskHB9CB"
      },
      "outputs": [],
      "source": [
        "chain.deploy()"
      ]
    },
    {
      "cell_type": "code",
      "execution_count": null,
      "metadata": {
        "id": "jAxd83N1GBCt"
      },
      "outputs": [],
      "source": []
    }
  ],
  "metadata": {
    "colab": {
      "provenance": []
    },
    "kernelspec": {
      "display_name": "Python 3",
      "name": "python3"
    },
    "language_info": {
      "name": "python"
    }
  },
  "nbformat": 4,
  "nbformat_minor": 0
}